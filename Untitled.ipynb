{
 "cells": [
  {
   "cell_type": "code",
   "execution_count": 1,
   "metadata": {},
   "outputs": [],
   "source": [
    "import numpy as np\n",
    "import pandas as pd"
   ]
  },
  {
   "cell_type": "code",
   "execution_count": 2,
   "metadata": {},
   "outputs": [],
   "source": [
    "import xgboost as xgb \n",
    "from sklearn.metrics import mean_squared_error"
   ]
  },
  {
   "cell_type": "code",
   "execution_count": 4,
   "metadata": {},
   "outputs": [
    {
     "data": {
      "text/html": [
       "<div>\n",
       "<style scoped>\n",
       "    .dataframe tbody tr th:only-of-type {\n",
       "        vertical-align: middle;\n",
       "    }\n",
       "\n",
       "    .dataframe tbody tr th {\n",
       "        vertical-align: top;\n",
       "    }\n",
       "\n",
       "    .dataframe thead th {\n",
       "        text-align: right;\n",
       "    }\n",
       "</style>\n",
       "<table border=\"1\" class=\"dataframe\">\n",
       "  <thead>\n",
       "    <tr style=\"text-align: right;\">\n",
       "      <th></th>\n",
       "      <th>date</th>\n",
       "      <th>site_id</th>\n",
       "      <th>ad_type_id</th>\n",
       "      <th>geo_id</th>\n",
       "      <th>device_category_id</th>\n",
       "      <th>advertiser_id</th>\n",
       "      <th>order_id</th>\n",
       "      <th>line_item_type_id</th>\n",
       "      <th>os_id</th>\n",
       "      <th>integration_type_id</th>\n",
       "      <th>monetization_channel_id</th>\n",
       "      <th>ad_unit_id</th>\n",
       "      <th>total_impressions</th>\n",
       "      <th>total_revenue</th>\n",
       "      <th>viewable_impressions</th>\n",
       "      <th>measurable_impressions</th>\n",
       "      <th>revenue_share_percent</th>\n",
       "    </tr>\n",
       "  </thead>\n",
       "  <tbody>\n",
       "    <tr>\n",
       "      <th>0</th>\n",
       "      <td>30-06-2019 00:00</td>\n",
       "      <td>351</td>\n",
       "      <td>10</td>\n",
       "      <td>187</td>\n",
       "      <td>2</td>\n",
       "      <td>84</td>\n",
       "      <td>3473</td>\n",
       "      <td>19</td>\n",
       "      <td>60</td>\n",
       "      <td>1</td>\n",
       "      <td>4</td>\n",
       "      <td>5174</td>\n",
       "      <td>16</td>\n",
       "      <td>0.0</td>\n",
       "      <td>2</td>\n",
       "      <td>16</td>\n",
       "      <td>1</td>\n",
       "    </tr>\n",
       "    <tr>\n",
       "      <th>1</th>\n",
       "      <td>30-06-2019 00:00</td>\n",
       "      <td>351</td>\n",
       "      <td>10</td>\n",
       "      <td>187</td>\n",
       "      <td>2</td>\n",
       "      <td>84</td>\n",
       "      <td>3473</td>\n",
       "      <td>19</td>\n",
       "      <td>58</td>\n",
       "      <td>1</td>\n",
       "      <td>4</td>\n",
       "      <td>5174</td>\n",
       "      <td>6</td>\n",
       "      <td>0.0</td>\n",
       "      <td>0</td>\n",
       "      <td>6</td>\n",
       "      <td>1</td>\n",
       "    </tr>\n",
       "    <tr>\n",
       "      <th>2</th>\n",
       "      <td>30-06-2019 00:00</td>\n",
       "      <td>351</td>\n",
       "      <td>10</td>\n",
       "      <td>147</td>\n",
       "      <td>2</td>\n",
       "      <td>84</td>\n",
       "      <td>3473</td>\n",
       "      <td>19</td>\n",
       "      <td>60</td>\n",
       "      <td>1</td>\n",
       "      <td>4</td>\n",
       "      <td>5174</td>\n",
       "      <td>4</td>\n",
       "      <td>0.0</td>\n",
       "      <td>0</td>\n",
       "      <td>4</td>\n",
       "      <td>1</td>\n",
       "    </tr>\n",
       "    <tr>\n",
       "      <th>3</th>\n",
       "      <td>30-06-2019 00:00</td>\n",
       "      <td>351</td>\n",
       "      <td>10</td>\n",
       "      <td>147</td>\n",
       "      <td>2</td>\n",
       "      <td>84</td>\n",
       "      <td>3473</td>\n",
       "      <td>19</td>\n",
       "      <td>58</td>\n",
       "      <td>1</td>\n",
       "      <td>4</td>\n",
       "      <td>5174</td>\n",
       "      <td>4</td>\n",
       "      <td>0.0</td>\n",
       "      <td>0</td>\n",
       "      <td>4</td>\n",
       "      <td>1</td>\n",
       "    </tr>\n",
       "    <tr>\n",
       "      <th>4</th>\n",
       "      <td>30-06-2019 00:00</td>\n",
       "      <td>348</td>\n",
       "      <td>10</td>\n",
       "      <td>147</td>\n",
       "      <td>3</td>\n",
       "      <td>79</td>\n",
       "      <td>3463</td>\n",
       "      <td>20</td>\n",
       "      <td>59</td>\n",
       "      <td>1</td>\n",
       "      <td>19</td>\n",
       "      <td>5138</td>\n",
       "      <td>4</td>\n",
       "      <td>0.0</td>\n",
       "      <td>0</td>\n",
       "      <td>4</td>\n",
       "      <td>1</td>\n",
       "    </tr>\n",
       "  </tbody>\n",
       "</table>\n",
       "</div>"
      ],
      "text/plain": [
       "               date  site_id  ad_type_id  geo_id  device_category_id  \\\n",
       "0  30-06-2019 00:00      351          10     187                   2   \n",
       "1  30-06-2019 00:00      351          10     187                   2   \n",
       "2  30-06-2019 00:00      351          10     147                   2   \n",
       "3  30-06-2019 00:00      351          10     147                   2   \n",
       "4  30-06-2019 00:00      348          10     147                   3   \n",
       "\n",
       "   advertiser_id  order_id  line_item_type_id  os_id  integration_type_id  \\\n",
       "0             84      3473                 19     60                    1   \n",
       "1             84      3473                 19     58                    1   \n",
       "2             84      3473                 19     60                    1   \n",
       "3             84      3473                 19     58                    1   \n",
       "4             79      3463                 20     59                    1   \n",
       "\n",
       "   monetization_channel_id  ad_unit_id  total_impressions  total_revenue  \\\n",
       "0                        4        5174                 16            0.0   \n",
       "1                        4        5174                  6            0.0   \n",
       "2                        4        5174                  4            0.0   \n",
       "3                        4        5174                  4            0.0   \n",
       "4                       19        5138                  4            0.0   \n",
       "\n",
       "   viewable_impressions  measurable_impressions  revenue_share_percent  \n",
       "0                     2                      16                      1  \n",
       "1                     0                       6                      1  \n",
       "2                     0                       4                      1  \n",
       "3                     0                       4                      1  \n",
       "4                     0                       4                      1  "
      ]
     },
     "execution_count": 4,
     "metadata": {},
     "output_type": "execute_result"
    }
   ],
   "source": [
    "df = pd.read_csv('Dataset.csv')\n",
    "df.head()"
   ]
  },
  {
   "cell_type": "code",
   "execution_count": 5,
   "metadata": {},
   "outputs": [],
   "source": [
    "def weird_division(n, d):\n",
    "    return n / d if d else 0\n",
    "\n",
    "df.loc[:, 'CPM'] = df.apply(lambda x: weird_division(x.total_revenue * 100, x.measurable_impressions) * 1000 , axis=1)\n",
    "\n",
    "split_date = '2019-06-21'\n",
    "\n",
    "df_train = df.loc[df.date <= split_date]\n",
    "df_test = df.loc[df.date > split_date]"
   ]
  },
  {
   "cell_type": "code",
   "execution_count": 6,
   "metadata": {},
   "outputs": [],
   "source": [
    "def preprocess(df, percentile=95):\n",
    "    df = df.loc[df.CPM >= 0]\n",
    "    return df.loc[df.CPM < df.CPM.quantile(percentile / 100)]\n",
    "\n",
    "df_train_pp = preprocess(df_train)\n",
    "df_test_pp = preprocess(df_test)"
   ]
  },
  {
   "cell_type": "code",
   "execution_count": 7,
   "metadata": {},
   "outputs": [],
   "source": [
    "xg_reg = xgb.XGBRegressor(objective ='reg:squarederror', \n",
    "                          colsample_bytree=0.3, \n",
    "                          learning_rate=0.05,\n",
    "                          max_depth=7, \n",
    "                          alpha=10, \n",
    "                          n_estimators=1000)"
   ]
  },
  {
   "cell_type": "code",
   "execution_count": 8,
   "metadata": {},
   "outputs": [
    {
     "data": {
      "text/plain": [
       "XGBRegressor(alpha=10, base_score=0.5, booster='gbtree', colsample_bylevel=1,\n",
       "             colsample_bynode=1, colsample_bytree=0.3, enable_categorical=False,\n",
       "             gamma=0, gpu_id=-1, importance_type=None,\n",
       "             interaction_constraints='', learning_rate=0.05, max_delta_step=0,\n",
       "             max_depth=7, min_child_weight=1, missing=nan,\n",
       "             monotone_constraints='()', n_estimators=1000, n_jobs=8,\n",
       "             num_parallel_tree=1, predictor='auto', random_state=0,\n",
       "             reg_alpha=10, reg_lambda=1, scale_pos_weight=1, subsample=1,\n",
       "             tree_method='exact', validate_parameters=1, verbosity=None)"
      ]
     },
     "execution_count": 8,
     "metadata": {},
     "output_type": "execute_result"
    }
   ],
   "source": [
    "xg_reg.fit(df_train_pp.drop(['CPM', 'date', 'total_revenue'], axis=1), \n",
    "           df_train_pp.CPM)"
   ]
  },
  {
   "cell_type": "code",
   "execution_count": 9,
   "metadata": {},
   "outputs": [],
   "source": [
    "pred = xg_reg.predict(df_test_pp.drop(['CPM', 'date', 'total_revenue'], axis=1))"
   ]
  },
  {
   "cell_type": "code",
   "execution_count": 10,
   "metadata": {},
   "outputs": [
    {
     "name": "stdout",
     "output_type": "stream",
     "text": [
      "Mean Squared Error: 2747.885888651496\n"
     ]
    }
   ],
   "source": [
    "print(f'Mean Squared Error: {mean_squared_error(df_test_pp.CPM, pred)}')"
   ]
  },
  {
   "cell_type": "code",
   "execution_count": null,
   "metadata": {},
   "outputs": [],
   "source": []
  }
 ],
 "metadata": {
  "kernelspec": {
   "display_name": "advertiserxg",
   "language": "python",
   "name": "advertiserxg"
  },
  "language_info": {
   "codemirror_mode": {
    "name": "ipython",
    "version": 3
   },
   "file_extension": ".py",
   "mimetype": "text/x-python",
   "name": "python",
   "nbconvert_exporter": "python",
   "pygments_lexer": "ipython3",
   "version": "3.7.11"
  }
 },
 "nbformat": 4,
 "nbformat_minor": 4
}
